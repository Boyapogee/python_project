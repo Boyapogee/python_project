{
 "cells": [
  {
   "cell_type": "markdown",
   "id": "e90a1ef7-3584-4b0e-a4bd-21462f772a35",
   "metadata": {},
   "source": [
    "### Mean-Variance-Standard Deviation Calculator"
   ]
  },
  {
   "cell_type": "code",
   "execution_count": 18,
   "id": "471c06c1-a156-4b6e-b8fd-cd9fa2cc35a3",
   "metadata": {},
   "outputs": [],
   "source": [
    "import numpy as np\n",
    "import pandas as pd\n",
    "import math"
   ]
  },
  {
   "cell_type": "code",
   "execution_count": 58,
   "id": "52cc317a-5656-4433-872e-bc93c9f3aa95",
   "metadata": {},
   "outputs": [
    {
     "data": {
      "text/plain": [
       "array([0, 1, 2, 3, 4, 5, 6, 7, 8])"
      ]
     },
     "execution_count": 58,
     "metadata": {},
     "output_type": "execute_result"
    }
   ],
   "source": [
    "np.arange(0,9)"
   ]
  },
  {
   "cell_type": "code",
   "execution_count": 59,
   "id": "de58e8e2-aafa-44ef-8962-f3cbe61edd71",
   "metadata": {},
   "outputs": [],
   "source": [
    "r = np.arange(0,9).reshape(3,3)"
   ]
  },
  {
   "cell_type": "code",
   "execution_count": 60,
   "id": "c80285bf-efe9-4f00-b8e0-16641cb7743f",
   "metadata": {},
   "outputs": [
    {
     "data": {
      "text/plain": [
       "array([[0, 1, 2],\n",
       "       [3, 4, 5],\n",
       "       [6, 7, 8]])"
      ]
     },
     "execution_count": 60,
     "metadata": {},
     "output_type": "execute_result"
    }
   ],
   "source": [
    "r"
   ]
  },
  {
   "cell_type": "code",
   "execution_count": 61,
   "id": "f4790966-5554-49ca-95e4-04ce38ea5be2",
   "metadata": {},
   "outputs": [
    {
     "data": {
      "text/plain": [
       "(3, 3)"
      ]
     },
     "execution_count": 61,
     "metadata": {},
     "output_type": "execute_result"
    }
   ],
   "source": [
    "arr.shape"
   ]
  },
  {
   "cell_type": "markdown",
   "id": "ac6aecd5-1293-4b2f-b49e-81d319b278c3",
   "metadata": {},
   "source": [
    "- Sum, Mean, Variance, Standard Deviation, Max, Min"
   ]
  },
  {
   "cell_type": "code",
   "execution_count": 62,
   "id": "347c4353-ca0e-49b4-b7b5-9c5bd25e162c",
   "metadata": {},
   "outputs": [
    {
     "data": {
      "text/plain": [
       "array([[0, 1, 2],\n",
       "       [3, 4, 5],\n",
       "       [6, 7, 8]])"
      ]
     },
     "execution_count": 62,
     "metadata": {},
     "output_type": "execute_result"
    }
   ],
   "source": [
    "r"
   ]
  },
  {
   "cell_type": "code",
   "execution_count": 64,
   "id": "0a116de6-b142-401b-9f87-9b3dbc9578b0",
   "metadata": {},
   "outputs": [
    {
     "data": {
      "text/plain": [
       "{'mean': [array([3., 4., 5.]), array([1., 4., 7.]), 4.0],\n",
       " 'variance': [array([6., 6., 6.]),\n",
       "  array([0.66666667, 0.66666667, 0.66666667]),\n",
       "  4.0],\n",
       " 'standard deviation': [array([2.44948974, 2.44948974, 2.44948974]),\n",
       "  array([0.81649658, 0.81649658, 0.81649658]),\n",
       "  2.581988897471611],\n",
       " 'max': [array([6, 7, 8]), array([2, 5, 8]), 8],\n",
       " 'min': [array([0, 1, 2]), array([0, 3, 6]), 0],\n",
       " 'sum': [array([ 9, 12, 15]), array([ 3, 12, 21]), 36]}"
      ]
     },
     "execution_count": 64,
     "metadata": {},
     "output_type": "execute_result"
    }
   ],
   "source": [
    "{\n",
    "  'mean': [np.mean(r,axis=0), np.mean(r,axis=1), np.mean(r)],\n",
    "  'variance': [np.var(r,axis=0), np.var(r,axis=1), np.mean(r)],\n",
    "  'standard deviation': [np.std(r,axis=0), np.std(r,axis=1), np.std(r)],\n",
    "  'max': [np.max(r,axis=0), np.max(r,axis=1), np.max(r)],\n",
    "  'min': [np.min(r,axis=0), np.min(r,axis=1), np.min(r)],\n",
    "  'sum': [np.sum(r,axis=0), np.sum(r,axis=1), np.sum(r)]\n",
    "}"
   ]
  },
  {
   "cell_type": "markdown",
   "id": "7767061c-1573-43cb-8bf9-4b480d7f51c4",
   "metadata": {},
   "source": [
    "- To create a function"
   ]
  },
  {
   "cell_type": "code",
   "execution_count": 41,
   "id": "0c721221-af63-4d25-b520-b2fc396d1803",
   "metadata": {},
   "outputs": [
    {
     "data": {
      "text/plain": [
       "array([[1, 2, 3],\n",
       "       [4, 5, 6],\n",
       "       [7, 8, 9]])"
      ]
     },
     "execution_count": 41,
     "metadata": {},
     "output_type": "execute_result"
    }
   ],
   "source": [
    "r"
   ]
  },
  {
   "cell_type": "code",
   "execution_count": 53,
   "id": "a2655b42-be1b-4955-a974-984417fba3df",
   "metadata": {},
   "outputs": [],
   "source": [
    "def mean_cal(arr):\n",
    "    mean_arr = np.mean(arr,axis=0,dtype=float)\n",
    "    return mean_arr\n",
    "\n",
    "def var_cal(arr):\n",
    "    var_arr = np.var(arr,axis=0,dtype=float)\n",
    "    return var_arr\n",
    "\n",
    "def std_cal(arr):\n",
    "    std_arr = np.std(arr,axis=0,dtype=float)\n",
    "    return std_arr\n",
    "\n",
    "def max_cal(arr):\n",
    "    max_arr = np.max(arr,axis=0)\n",
    "    return max_arr\n",
    "\n",
    "def min_cal(arr):\n",
    "    min_arr = np.min(arr,axis=0)\n",
    "    return min_arr\n",
    "\n",
    "def sum_cal(arr):\n",
    "    sum_arr = np.sum(arr,axis=0)\n",
    "    return sum_arr"
   ]
  },
  {
   "cell_type": "code",
   "execution_count": 54,
   "id": "12d6ad84-f75c-454f-ad28-14e2ef97023c",
   "metadata": {},
   "outputs": [],
   "source": [
    "def calculate(listData):\n",
    "    length_list = len(listData)\n",
    "    Dict_result = {}\n",
    "    Dict_result = dict({'mean':[],'variance':[],'standard deviation':[],'max':[],'min':[],'sum':[]})\n",
    "    \n",
    "    if length_list<9:\n",
    "        raise ValueError(\"List must contain nine number.\")\n",
    "    \n",
    "    num_arr = np.array(listData)\n",
    "    num_arr = num_arr.reshape(3,3)\n",
    "    num_arr_T = num_arr.T\n",
    "    \n",
    "    Dict_result['mean'].append(list(mean_cal(num_arr)))\n",
    "    Dict_result['mean'].append(list(mean_cal(num_arr_T)))\n",
    "    Dict_result['mean'].append(mean_cal(listData))\n",
    "\n",
    "    Dict_result['variance'].append(list(var_cal(num_arr)))\n",
    "    Dict_result['variance'].append(list(var_cal(num_arr_T)))\n",
    "    Dict_result['variance'].append(var_cal(listData))\n",
    "    \n",
    "    Dict_result['standard deviation'].append(list(std_cal(num_arr)))\n",
    "    Dict_result['standard deviation'].append(list(std_cal(num_arr_T)))\n",
    "    Dict_result['standard deviation'].append(std_cal(listData))\n",
    "    \n",
    "    Dict_result['max'].append(list(max_cal(num_arr)))\n",
    "    Dict_result['max'].append(list(max_cal(num_arr_T)))\n",
    "    Dict_result['max'].append(max_cal(listData))\n",
    "\n",
    "    Dict_result['min'].append(list(min_cal(num_arr)))\n",
    "    Dict_result['min'].append(list(min_cal(num_arr_T)))\n",
    "    Dict_result['min'].append(min_cal(listData))\n",
    "\n",
    "    Dict_result['sum'].append(list(sum_cal(num_arr)))\n",
    "    Dict_result['sum'].append(list(sum_cal(num_arr_T)))\n",
    "    Dict_result['sum'].append(sum_cal(listData))\n",
    "\n",
    "    calculations = Dict_result\n",
    "    return calculations"
   ]
  },
  {
   "cell_type": "code",
   "execution_count": 55,
   "id": "d983d3f4-669b-43c8-a94a-5510b62537e4",
   "metadata": {},
   "outputs": [],
   "source": [
    "arr_test= [0,1,2,3,4,5,6,7,8]"
   ]
  },
  {
   "cell_type": "code",
   "execution_count": 50,
   "id": "ba9aeedb-ce8f-4b36-993d-cd9678e70385",
   "metadata": {},
   "outputs": [
    {
     "data": {
      "text/plain": [
       "[0, 1, 2, 3, 4, 5, 6, 7, 8]"
      ]
     },
     "execution_count": 50,
     "metadata": {},
     "output_type": "execute_result"
    }
   ],
   "source": [
    "arr_test"
   ]
  },
  {
   "cell_type": "code",
   "execution_count": 56,
   "id": "8b9656e5-3dde-420f-8b98-f59af68ef329",
   "metadata": {},
   "outputs": [
    {
     "name": "stdout",
     "output_type": "stream",
     "text": [
      "{'mean': [[3.0, 4.0, 5.0], [1.0, 4.0, 7.0], 4.0], 'variance': [[6.0, 6.0, 6.0], [0.6666666666666666, 0.6666666666666666, 0.6666666666666666], 6.666666666666667], 'standard deviation': [[2.449489742783178, 2.449489742783178, 2.449489742783178], [0.816496580927726, 0.816496580927726, 0.816496580927726], 2.581988897471611], 'max': [[6, 7, 8], [2, 5, 8], 8], 'min': [[0, 1, 2], [0, 3, 6], 0], 'sum': [[9, 12, 15], [3, 12, 21], 36]}\n"
     ]
    }
   ],
   "source": [
    "arr_test= [0,1,2,3,4,5,6,7,8]\n",
    "print(calculate(arr_test))"
   ]
  }
 ],
 "metadata": {
  "kernelspec": {
   "display_name": "Python 3 (ipykernel)",
   "language": "python",
   "name": "python3"
  },
  "language_info": {
   "codemirror_mode": {
    "name": "ipython",
    "version": 3
   },
   "file_extension": ".py",
   "mimetype": "text/x-python",
   "name": "python",
   "nbconvert_exporter": "python",
   "pygments_lexer": "ipython3",
   "version": "3.12.7"
  }
 },
 "nbformat": 4,
 "nbformat_minor": 5
}
